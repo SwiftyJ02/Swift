{
 "cells": [
  {
   "cell_type": "code",
   "execution_count": 9,
   "metadata": {},
   "outputs": [
    {
     "name": "stdout",
     "output_type": "stream",
     "text": [
      "Collecting numpy\n",
      "  Downloading numpy-2.2.3-cp311-cp311-win_amd64.whl.metadata (60 kB)\n",
      "     ---------------------------------------- 0.0/60.8 kB ? eta -:--:--\n",
      "     ------------ ------------------------- 20.5/60.8 kB 320.0 kB/s eta 0:00:01\n",
      "     ------------------------------- ------ 51.2/60.8 kB 518.5 kB/s eta 0:00:01\n",
      "     -------------------------------------- 60.8/60.8 kB 538.3 kB/s eta 0:00:00\n",
      "Downloading numpy-2.2.3-cp311-cp311-win_amd64.whl (12.9 MB)\n",
      "   ---------------------------------------- 0.0/12.9 MB ? eta -:--:--\n",
      "    --------------------------------------- 0.3/12.9 MB 9.6 MB/s eta 0:00:02\n",
      "   -------- ------------------------------- 2.7/12.9 MB 34.0 MB/s eta 0:00:01\n",
      "   ----------------- ---------------------- 5.5/12.9 MB 44.2 MB/s eta 0:00:01\n",
      "   -------------------------- ------------- 8.4/12.9 MB 48.9 MB/s eta 0:00:01\n",
      "   ----------------------------------- ---- 11.4/12.9 MB 65.6 MB/s eta 0:00:01\n",
      "   ---------------------------------------  12.9/12.9 MB 65.6 MB/s eta 0:00:01\n",
      "   ---------------------------------------- 12.9/12.9 MB 54.4 MB/s eta 0:00:00\n",
      "Installing collected packages: numpy\n",
      "Successfully installed numpy-2.2.3\n"
     ]
    },
    {
     "name": "stderr",
     "output_type": "stream",
     "text": [
      "\n",
      "[notice] A new release of pip is available: 24.0 -> 25.0.1\n",
      "[notice] To update, run: C:\\Users\\jswif\\AppData\\Local\\Microsoft\\WindowsApps\\PythonSoftwareFoundation.Python.3.11_qbz5n2kfra8p0\\python.exe -m pip install --upgrade pip\n"
     ]
    }
   ],
   "source": [
    "!pip install numpy\n",
    "\n"
   ]
  },
  {
   "cell_type": "code",
   "execution_count": 26,
   "metadata": {},
   "outputs": [
    {
     "name": "stdout",
     "output_type": "stream",
     "text": [
      "2893402\n"
     ]
    }
   ],
   "source": [
    "import numpy as np\n",
    "data = np.loadtxt(\"Pantheon+SH0ES_STAT+SYS.cov\") \n",
    "print(len(data))"
   ]
  },
  {
   "cell_type": "code",
   "execution_count": 32,
   "metadata": {},
   "outputs": [
    {
     "name": "stdout",
     "output_type": "stream",
     "text": [
      "1701\n",
      "<class 'list'>\n",
      "-0.00042533\n"
     ]
    }
   ],
   "source": [
    "fullPantheon=[]\n",
    "for j in range(1701):\n",
    "    a=1701*j\n",
    "    addded=[]\n",
    "    for i in range(a+1, a+1702):\n",
    "        addded.append(data[i])\n",
    "    fullPantheon.append(addded)\n",
    "print(len(fullPantheon[1]))\n",
    "print(type(fullPantheon))\n",
    "print(fullPantheon[10][1000])"
   ]
  },
  {
   "cell_type": "code",
   "execution_count": 30,
   "metadata": {},
   "outputs": [
    {
     "ename": "TypeError",
     "evalue": "can only concatenate list (not \"str\") to list",
     "output_type": "error",
     "traceback": [
      "\u001b[31m---------------------------------------------------------------------------\u001b[39m",
      "\u001b[31mTypeError\u001b[39m                                 Traceback (most recent call last)",
      "\u001b[36mCell\u001b[39m\u001b[36m \u001b[39m\u001b[32mIn[30]\u001b[39m\u001b[32m, line 6\u001b[39m\n\u001b[32m      4\u001b[39m \u001b[38;5;28;01mwith\u001b[39;00m \u001b[38;5;28mopen\u001b[39m(\u001b[33m\"\u001b[39m\u001b[33mmy_list.txt\u001b[39m\u001b[33m\"\u001b[39m, \u001b[33m\"\u001b[39m\u001b[33mw\u001b[39m\u001b[33m\"\u001b[39m) \u001b[38;5;28;01mas\u001b[39;00m file:\n\u001b[32m      5\u001b[39m     \u001b[38;5;28;01mfor\u001b[39;00m item \u001b[38;5;129;01min\u001b[39;00m my_list:\n\u001b[32m----> \u001b[39m\u001b[32m6\u001b[39m         file.write(\u001b[43mitem\u001b[49m\u001b[43m \u001b[49m\u001b[43m+\u001b[49m\u001b[43m \u001b[49m\u001b[33;43m\"\u001b[39;49m\u001b[38;5;130;43;01m\\n\u001b[39;49;00m\u001b[33;43m\"\u001b[39;49m)  \u001b[38;5;66;03m# Write each item on a new line\u001b[39;00m\n",
      "\u001b[31mTypeError\u001b[39m: can only concatenate list (not \"str\") to list"
     ]
    }
   ],
   "source": [
    "\n",
    "my_list = fullPantheon\n",
    "\n",
    "# Open a file in write mode\n",
    "with open(\"my_list.txt\", \"w\") as file:\n",
    "    for item in my_list:\n",
    "        file.write(item + \"\\n\")  # Write each item on a new line"
   ]
  },
  {
   "cell_type": "code",
   "execution_count": 34,
   "metadata": {},
   "outputs": [
    {
     "name": "stdout",
     "output_type": "stream",
     "text": [
      "List appended to CSV file successfully!\n"
     ]
    }
   ],
   "source": [
    "import csv\n",
    "\n",
    "new_items = fullPantheon\n",
    "\n",
    "with open(\"CovMatrix.csv\", \"a\", newline=\"\") as file:\n",
    "    writer = csv.writer(file)\n",
    "    writer.writerow(new_items)  # Adds the list as a new row\n",
    "\n",
    "print(\"List appended to CSV file successfully!\")"
   ]
  },
  {
   "cell_type": "code",
   "execution_count": null,
   "metadata": {},
   "outputs": [],
   "source": []
  }
 ],
 "metadata": {
  "kernelspec": {
   "display_name": "Python 3",
   "language": "python",
   "name": "python3"
  },
  "language_info": {
   "codemirror_mode": {
    "name": "ipython",
    "version": 3
   },
   "file_extension": ".py",
   "mimetype": "text/x-python",
   "name": "python",
   "nbconvert_exporter": "python",
   "pygments_lexer": "ipython3",
   "version": "3.11.9"
  }
 },
 "nbformat": 4,
 "nbformat_minor": 2
}
